{
 "cells": [
  {
   "cell_type": "code",
   "execution_count": 5,
   "id": "6cd60391-49d4-4d75-b6b5-cc0fb07411a6",
   "metadata": {},
   "outputs": [
    {
     "name": "stdout",
     "output_type": "stream",
     "text": [
      "Collecting selenium\n",
      "  Downloading selenium-4.22.0-py3-none-any.whl.metadata (7.0 kB)\n",
      "Requirement already satisfied: urllib3<3,>=1.26 in c:\\users\\gaurav rane\\anaconda3\\lib\\site-packages (from urllib3[socks]<3,>=1.26->selenium) (2.0.7)\n",
      "Collecting trio~=0.17 (from selenium)\n",
      "  Downloading trio-0.26.0-py3-none-any.whl.metadata (8.8 kB)\n",
      "Collecting trio-websocket~=0.9 (from selenium)\n",
      "  Downloading trio_websocket-0.11.1-py3-none-any.whl.metadata (4.7 kB)\n",
      "Requirement already satisfied: certifi>=2021.10.8 in c:\\users\\gaurav rane\\anaconda3\\lib\\site-packages (from selenium) (2024.2.2)\n",
      "Requirement already satisfied: typing_extensions>=4.9.0 in c:\\users\\gaurav rane\\anaconda3\\lib\\site-packages (from selenium) (4.9.0)\n",
      "Collecting websocket-client>=1.8.0 (from selenium)\n",
      "  Downloading websocket_client-1.8.0-py3-none-any.whl.metadata (8.0 kB)\n",
      "Collecting attrs>=23.2.0 (from trio~=0.17->selenium)\n",
      "  Downloading attrs-23.2.0-py3-none-any.whl.metadata (9.5 kB)\n",
      "Requirement already satisfied: sortedcontainers in c:\\users\\gaurav rane\\anaconda3\\lib\\site-packages (from trio~=0.17->selenium) (2.4.0)\n",
      "Requirement already satisfied: idna in c:\\users\\gaurav rane\\anaconda3\\lib\\site-packages (from trio~=0.17->selenium) (3.4)\n",
      "Collecting outcome (from trio~=0.17->selenium)\n",
      "  Downloading outcome-1.3.0.post0-py2.py3-none-any.whl.metadata (2.6 kB)\n",
      "Requirement already satisfied: sniffio>=1.3.0 in c:\\users\\gaurav rane\\anaconda3\\lib\\site-packages (from trio~=0.17->selenium) (1.3.0)\n",
      "Requirement already satisfied: cffi>=1.14 in c:\\users\\gaurav rane\\anaconda3\\lib\\site-packages (from trio~=0.17->selenium) (1.16.0)\n",
      "Collecting wsproto>=0.14 (from trio-websocket~=0.9->selenium)\n",
      "  Downloading wsproto-1.2.0-py3-none-any.whl.metadata (5.6 kB)\n",
      "Requirement already satisfied: pysocks!=1.5.7,<2.0,>=1.5.6 in c:\\users\\gaurav rane\\anaconda3\\lib\\site-packages (from urllib3[socks]<3,>=1.26->selenium) (1.7.1)\n",
      "Requirement already satisfied: pycparser in c:\\users\\gaurav rane\\anaconda3\\lib\\site-packages (from cffi>=1.14->trio~=0.17->selenium) (2.21)\n",
      "Collecting h11<1,>=0.9.0 (from wsproto>=0.14->trio-websocket~=0.9->selenium)\n",
      "  Downloading h11-0.14.0-py3-none-any.whl.metadata (8.2 kB)\n",
      "Downloading selenium-4.22.0-py3-none-any.whl (9.4 MB)\n",
      "   ---------------------------------------- 0.0/9.4 MB ? eta -:--:--\n",
      "    --------------------------------------- 0.1/9.4 MB 3.6 MB/s eta 0:00:03\n",
      "   -- ------------------------------------- 0.5/9.4 MB 6.2 MB/s eta 0:00:02\n",
      "   --- ------------------------------------ 0.9/9.4 MB 6.9 MB/s eta 0:00:02\n",
      "   ---- ----------------------------------- 1.1/9.4 MB 6.4 MB/s eta 0:00:02\n",
      "   ------ --------------------------------- 1.5/9.4 MB 6.6 MB/s eta 0:00:02\n",
      "   ------- -------------------------------- 1.7/9.4 MB 6.5 MB/s eta 0:00:02\n",
      "   -------- ------------------------------- 2.1/9.4 MB 6.6 MB/s eta 0:00:02\n",
      "   ---------- ----------------------------- 2.5/9.4 MB 6.9 MB/s eta 0:00:02\n",
      "   ------------ --------------------------- 2.9/9.4 MB 7.1 MB/s eta 0:00:01\n",
      "   ------------- -------------------------- 3.1/9.4 MB 7.1 MB/s eta 0:00:01\n",
      "   ------------- -------------------------- 3.3/9.4 MB 6.6 MB/s eta 0:00:01\n",
      "   ---------------- ----------------------- 3.8/9.4 MB 7.0 MB/s eta 0:00:01\n",
      "   ---------------- ----------------------- 4.0/9.4 MB 6.7 MB/s eta 0:00:01\n",
      "   ------------------ --------------------- 4.4/9.4 MB 6.9 MB/s eta 0:00:01\n",
      "   -------------------- ------------------- 4.8/9.4 MB 7.0 MB/s eta 0:00:01\n",
      "   --------------------- ------------------ 5.0/9.4 MB 7.1 MB/s eta 0:00:01\n",
      "   --------------------- ------------------ 5.0/9.4 MB 6.8 MB/s eta 0:00:01\n",
      "   ------------------------ --------------- 5.7/9.4 MB 6.9 MB/s eta 0:00:01\n",
      "   ------------------------- -------------- 6.0/9.4 MB 6.8 MB/s eta 0:00:01\n",
      "   -------------------------- ------------- 6.3/9.4 MB 6.8 MB/s eta 0:00:01\n",
      "   --------------------------- ------------ 6.6/9.4 MB 6.8 MB/s eta 0:00:01\n",
      "   ---------------------------- ----------- 6.8/9.4 MB 6.7 MB/s eta 0:00:01\n",
      "   ------------------------------ --------- 7.1/9.4 MB 6.7 MB/s eta 0:00:01\n",
      "   ------------------------------- -------- 7.4/9.4 MB 6.7 MB/s eta 0:00:01\n",
      "   -------------------------------- ------- 7.7/9.4 MB 6.7 MB/s eta 0:00:01\n",
      "   ---------------------------------- ----- 8.0/9.4 MB 6.7 MB/s eta 0:00:01\n",
      "   ----------------------------------- ---- 8.3/9.4 MB 6.7 MB/s eta 0:00:01\n",
      "   ------------------------------------ --- 8.6/9.4 MB 6.6 MB/s eta 0:00:01\n",
      "   ------------------------------------- -- 8.9/9.4 MB 6.6 MB/s eta 0:00:01\n",
      "   ---------------------------------------  9.2/9.4 MB 6.6 MB/s eta 0:00:01\n",
      "   ---------------------------------------  9.4/9.4 MB 6.6 MB/s eta 0:00:01\n",
      "   ---------------------------------------- 9.4/9.4 MB 6.5 MB/s eta 0:00:00\n",
      "Downloading trio-0.26.0-py3-none-any.whl (475 kB)\n",
      "   ---------------------------------------- 0.0/475.7 kB ? eta -:--:--\n",
      "   -------------------------- ------------- 317.4/475.7 kB 6.5 MB/s eta 0:00:01\n",
      "   ---------------------------------------- 475.7/475.7 kB 7.5 MB/s eta 0:00:00\n",
      "Downloading trio_websocket-0.11.1-py3-none-any.whl (17 kB)\n",
      "Downloading websocket_client-1.8.0-py3-none-any.whl (58 kB)\n",
      "   ---------------------------------------- 0.0/58.8 kB ? eta -:--:--\n",
      "   ---------------------------------------- 58.8/58.8 kB ? eta 0:00:00\n",
      "Downloading attrs-23.2.0-py3-none-any.whl (60 kB)\n",
      "   ---------------------------------------- 0.0/60.8 kB ? eta -:--:--\n",
      "   ---------------------------------------- 60.8/60.8 kB 3.4 MB/s eta 0:00:00\n",
      "Downloading wsproto-1.2.0-py3-none-any.whl (24 kB)\n",
      "Downloading outcome-1.3.0.post0-py2.py3-none-any.whl (10 kB)\n",
      "Downloading h11-0.14.0-py3-none-any.whl (58 kB)\n",
      "   ---------------------------------------- 0.0/58.3 kB ? eta -:--:--\n",
      "   ---------------------------------------- 58.3/58.3 kB 3.2 MB/s eta 0:00:00\n",
      "Installing collected packages: websocket-client, h11, attrs, wsproto, outcome, trio, trio-websocket, selenium\n",
      "  Attempting uninstall: websocket-client\n",
      "    Found existing installation: websocket-client 0.58.0\n",
      "    Uninstalling websocket-client-0.58.0:\n",
      "      Successfully uninstalled websocket-client-0.58.0\n",
      "  Attempting uninstall: attrs\n",
      "    Found existing installation: attrs 23.1.0\n",
      "    Uninstalling attrs-23.1.0:\n",
      "      Successfully uninstalled attrs-23.1.0\n",
      "Successfully installed attrs-23.2.0 h11-0.14.0 outcome-1.3.0.post0 selenium-4.22.0 trio-0.26.0 trio-websocket-0.11.1 websocket-client-1.8.0 wsproto-1.2.0\n",
      "Note: you may need to restart the kernel to use updated packages.\n"
     ]
    }
   ],
   "source": [
    "pip install selenium"
   ]
  },
  {
   "cell_type": "code",
   "execution_count": 6,
   "id": "c85eb1ad-7bcd-48d8-9b56-e2f7ff47409b",
   "metadata": {},
   "outputs": [
    {
     "name": "stdout",
     "output_type": "stream",
     "text": [
      "Name: selenium\n",
      "Version: 4.22.0\n",
      "Summary: Official Python bindings for Selenium WebDriver\n",
      "Home-page: https://www.selenium.dev\n",
      "Author: \n",
      "Author-email: \n",
      "License: Apache 2.0\n",
      "Location: C:\\Users\\Gaurav Rane\\anaconda3\\Lib\\site-packages\n",
      "Requires: certifi, trio, trio-websocket, typing_extensions, urllib3, websocket-client\n",
      "Required-by: \n",
      "Note: you may need to restart the kernel to use updated packages.\n"
     ]
    }
   ],
   "source": [
    "pip show selenium\n"
   ]
  },
  {
   "cell_type": "code",
   "execution_count": 18,
   "id": "50ff46e3-ea72-4b2b-ab33-7ca326f98bc2",
   "metadata": {},
   "outputs": [],
   "source": [
    "from selenium import webdriver\n",
    "from selenium.webdriver.common.by import By\n",
    "from selenium.webdriver.common.keys import Keys\n",
    "from selenium.webdriver.chrome.service import Service\n",
    "import time\n",
    "import csv"
   ]
  },
  {
   "cell_type": "code",
   "execution_count": 19,
   "id": "1a4e3cf8-5ff5-4f3f-8d0f-54180812b0d8",
   "metadata": {},
   "outputs": [],
   "source": [
    "chrome_driver_path = r'C:\\Users\\Gaurav Rane\\OneDrive\\Documents\\chromedriver-win64\\chromedriver.exe'"
   ]
  },
  {
   "cell_type": "code",
   "execution_count": 20,
   "id": "89f521d2-9b39-4a0b-80cd-44aea2b4af9d",
   "metadata": {},
   "outputs": [],
   "source": [
    "# Set up WebDriver service\n",
    "service = Service(chrome_driver_path)\n",
    "driver = webdriver.Chrome(service=service)\n",
    "driver.get('https://www.flipkart.com')"
   ]
  },
  {
   "cell_type": "code",
   "execution_count": 21,
   "id": "28346989-0c45-41f1-800a-2563a89e415e",
   "metadata": {},
   "outputs": [
    {
     "name": "stdout",
     "output_type": "stream",
     "text": [
      "No pop-up found: Message: no such element: Unable to locate element: {\"method\":\"xpath\",\"selector\":\"//button[contains(text(),\"✕\")]\"}\n",
      "  (Session info: chrome=126.0.6478.127); For documentation on this error, please visit: https://www.selenium.dev/documentation/webdriver/troubleshooting/errors#no-such-element-exception\n",
      "Stacktrace:\n",
      "\tGetHandleVerifier [0x00007FF7E2E0EEA2+31554]\n",
      "\t(No symbol) [0x00007FF7E2D87ED9]\n",
      "\t(No symbol) [0x00007FF7E2C4872A]\n",
      "\t(No symbol) [0x00007FF7E2C98434]\n",
      "\t(No symbol) [0x00007FF7E2C9853C]\n",
      "\t(No symbol) [0x00007FF7E2CDF6A7]\n",
      "\t(No symbol) [0x00007FF7E2CBD06F]\n",
      "\t(No symbol) [0x00007FF7E2CDC977]\n",
      "\t(No symbol) [0x00007FF7E2CBCDD3]\n",
      "\t(No symbol) [0x00007FF7E2C8A33B]\n",
      "\t(No symbol) [0x00007FF7E2C8AED1]\n",
      "\tGetHandleVerifier [0x00007FF7E3118B1D+3217341]\n",
      "\tGetHandleVerifier [0x00007FF7E3165AE3+3532675]\n",
      "\tGetHandleVerifier [0x00007FF7E315B0E0+3489152]\n",
      "\tGetHandleVerifier [0x00007FF7E2EBE776+750614]\n",
      "\t(No symbol) [0x00007FF7E2D9375F]\n",
      "\t(No symbol) [0x00007FF7E2D8EB14]\n",
      "\t(No symbol) [0x00007FF7E2D8ECA2]\n",
      "\t(No symbol) [0x00007FF7E2D7E16F]\n",
      "\tBaseThreadInitThunk [0x00007FFFE993257D+29]\n",
      "\tRtlUserThreadStart [0x00007FFFEB68AF28+40]\n",
      "\n"
     ]
    }
   ],
   "source": [
    "try:\n",
    "    close_button = driver.find_element(By.XPATH, '//button[contains(text(),\"✕\")]')\n",
    "    close_button.click()\n",
    "except Exception as e:\n",
    "    print(f\"No pop-up found: {e}\")\n"
   ]
  },
  {
   "cell_type": "code",
   "execution_count": 22,
   "id": "76ce8890-df36-44ea-ae08-f7f4c5646d9e",
   "metadata": {},
   "outputs": [],
   "source": [
    "# Search for laptops\n",
    "search_box = driver.find_element(By.NAME, 'q')\n",
    "search_box.send_keys('laptops')\n",
    "search_box.send_keys(Keys.RETURN)\n",
    "time.sleep(3)"
   ]
  },
  {
   "cell_type": "code",
   "execution_count": 23,
   "id": "8c7a1a8d-71b4-4d24-94c6-39097cadced0",
   "metadata": {},
   "outputs": [],
   "source": [
    "# Initialize an empty list to store scraped data\n",
    "data = []"
   ]
  },
  {
   "cell_type": "code",
   "execution_count": 24,
   "id": "e9169bb1-e8ed-4602-81eb-6ac9706d6c2a",
   "metadata": {},
   "outputs": [],
   "source": [
    "# Scraping laptop names, prices, and ratings\n",
    "laptops = driver.find_elements(By.CSS_SELECTOR, 'div._4rR01T')\n",
    "prices = driver.find_elements(By.CSS_SELECTOR, 'div._30jeq3._1_WHN1')\n",
    "ratings = driver.find_elements(By.CSS_SELECTOR, 'div._3LWZlK')\n"
   ]
  },
  {
   "cell_type": "code",
   "execution_count": 25,
   "id": "dfa0ddb8-6d69-4c6a-be28-66543616ba38",
   "metadata": {},
   "outputs": [],
   "source": [
    "for laptop, price, rating in zip(laptops, prices, ratings):\n",
    "    laptop_name = laptop.text\n",
    "    laptop_price = price.text\n",
    "    laptop_rating = rating.text if rating.text else 'No rating available'\n",
    "    data.append([laptop_name, laptop_price, laptop_rating])"
   ]
  },
  {
   "cell_type": "code",
   "execution_count": 26,
   "id": "0ea4eec5-0cef-4c5e-8dfe-801c0c25767a",
   "metadata": {},
   "outputs": [],
   "source": [
    "# Close the browser\n",
    "driver.quit()"
   ]
  },
  {
   "cell_type": "code",
   "execution_count": 27,
   "id": "f2e70da8-92ff-4912-a64d-76a0217caf1b",
   "metadata": {},
   "outputs": [],
   "source": [
    "csv_file = r'C:\\Users\\Gaurav Rane\\OneDrive\\Documents\\flipkart_laptops.csv'"
   ]
  },
  {
   "cell_type": "code",
   "execution_count": 28,
   "id": "c8ea3d34-1798-4f68-a9dd-3531057ae12e",
   "metadata": {},
   "outputs": [],
   "source": [
    "with open(csv_file, 'w', newline='', encoding='utf-8') as file:\n",
    "    writer = csv.writer(file)\n",
    "    writer.writerow(['Laptop Name', 'Price', 'Rating'])  # Write header\n",
    "    writer.writerows(data)"
   ]
  },
  {
   "cell_type": "code",
   "execution_count": 29,
   "id": "8e12f09c-e48d-4e2a-94e3-c783117a6cc9",
   "metadata": {},
   "outputs": [
    {
     "name": "stdout",
     "output_type": "stream",
     "text": [
      "Successfully scraped data saved to C:\\Users\\Gaurav Rane\\OneDrive\\Documents\\flipkart_laptops.csv\n"
     ]
    }
   ],
   "source": [
    "print(f'Successfully scraped data saved to {csv_file}')"
   ]
  },
  {
   "cell_type": "code",
   "execution_count": null,
   "id": "cd766c6e-23db-45ea-b59a-c16006c0c957",
   "metadata": {},
   "outputs": [],
   "source": []
  }
 ],
 "metadata": {
  "kernelspec": {
   "display_name": "Python 3 (ipykernel)",
   "language": "python",
   "name": "python3"
  },
  "language_info": {
   "codemirror_mode": {
    "name": "ipython",
    "version": 3
   },
   "file_extension": ".py",
   "mimetype": "text/x-python",
   "name": "python",
   "nbconvert_exporter": "python",
   "pygments_lexer": "ipython3",
   "version": "3.11.7"
  }
 },
 "nbformat": 4,
 "nbformat_minor": 5
}
